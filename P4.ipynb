{
 "cells": [
  {
   "cell_type": "code",
   "execution_count": 120,
   "metadata": {
    "collapsed": true
   },
   "outputs": [],
   "source": [
    "%matplotlib inline\n",
    "import pandas as pd\n",
    "from pandas import set_option\n",
    "#Limit dataframe exibition to 8 rows\n",
    "set_option(\"display.max_rows\", 8)\n",
    "import matplotlib.pyplot as plt\n",
    "from pylab import plot\n",
    "from matplotlib.pylab import rcParams\n",
    "rcParams['figure.figsize'] = 15, 6"
   ]
  },
  {
   "cell_type": "code",
   "execution_count": 7,
   "metadata": {
    "collapsed": false
   },
   "outputs": [
    {
     "name": "stderr",
     "output_type": "stream",
     "text": [
      "/home/guilherme/ENV/local/lib/python2.7/site-packages/IPython/core/interactiveshell.py:2705: DtypeWarning: Columns (0) have mixed types. Specify dtype option on import or set low_memory=False.\n",
      "  interactivity=interactivity, compiler=compiler, result=result)\n"
     ]
    }
   ],
   "source": [
    "data = pd.read_csv('Subscribers/Subscribers.txt', sep='\\t', lineterminator='\\r')"
   ]
  },
  {
   "cell_type": "markdown",
   "metadata": {},
   "source": [
    "#### Converte as colunas de data para o tipo de dados datetime"
   ]
  },
  {
   "cell_type": "code",
   "execution_count": 13,
   "metadata": {
    "collapsed": false
   },
   "outputs": [],
   "source": [
    "data['stop_date'] = pd.to_datetime(data['stop_date'])\n",
    "data['start_date'] = pd.to_datetime(data['start_date'])"
   ]
  },
  {
   "cell_type": "code",
   "execution_count": 25,
   "metadata": {
    "collapsed": false,
    "scrolled": false
   },
   "outputs": [
    {
     "data": {
      "text/html": [
       "<div>\n",
       "<table border=\"1\" class=\"dataframe\">\n",
       "  <thead>\n",
       "    <tr style=\"text-align: right;\">\n",
       "      <th></th>\n",
       "      <th>customer_id</th>\n",
       "      <th>rate_plan</th>\n",
       "      <th>monthly_fee</th>\n",
       "      <th>market</th>\n",
       "      <th>channel</th>\n",
       "      <th>start_date</th>\n",
       "      <th>stop_date</th>\n",
       "      <th>stop_type</th>\n",
       "      <th>tenure</th>\n",
       "      <th>censored</th>\n",
       "    </tr>\n",
       "  </thead>\n",
       "  <tbody>\n",
       "    <tr>\n",
       "      <th>0</th>\n",
       "      <td>2</td>\n",
       "      <td>Top</td>\n",
       "      <td>150.0</td>\n",
       "      <td>Gotham</td>\n",
       "      <td>Dealer</td>\n",
       "      <td>2001-09-16</td>\n",
       "      <td>NaT</td>\n",
       "      <td>NaN</td>\n",
       "      <td>1929.0</td>\n",
       "      <td>1.0</td>\n",
       "    </tr>\n",
       "    <tr>\n",
       "      <th>1</th>\n",
       "      <td>52</td>\n",
       "      <td>Bottom</td>\n",
       "      <td>25.0</td>\n",
       "      <td>Metropolis</td>\n",
       "      <td>Mail</td>\n",
       "      <td>1997-01-13</td>\n",
       "      <td>2004-12-17</td>\n",
       "      <td>V</td>\n",
       "      <td>2895.0</td>\n",
       "      <td>0.0</td>\n",
       "    </tr>\n",
       "    <tr>\n",
       "      <th>2</th>\n",
       "      <td>76</td>\n",
       "      <td>Bottom</td>\n",
       "      <td>25.0</td>\n",
       "      <td>Gotham</td>\n",
       "      <td>Dealer</td>\n",
       "      <td>2000-12-08</td>\n",
       "      <td>2004-10-23</td>\n",
       "      <td>V</td>\n",
       "      <td>1415.0</td>\n",
       "      <td>0.0</td>\n",
       "    </tr>\n",
       "    <tr>\n",
       "      <th>3</th>\n",
       "      <td>89</td>\n",
       "      <td>Bottom</td>\n",
       "      <td>25.0</td>\n",
       "      <td>Gotham</td>\n",
       "      <td>Dealer</td>\n",
       "      <td>1999-09-16</td>\n",
       "      <td>2004-03-18</td>\n",
       "      <td>V</td>\n",
       "      <td>1645.0</td>\n",
       "      <td>0.0</td>\n",
       "    </tr>\n",
       "    <tr>\n",
       "      <th>...</th>\n",
       "      <td>...</td>\n",
       "      <td>...</td>\n",
       "      <td>...</td>\n",
       "      <td>...</td>\n",
       "      <td>...</td>\n",
       "      <td>...</td>\n",
       "      <td>...</td>\n",
       "      <td>...</td>\n",
       "      <td>...</td>\n",
       "      <td>...</td>\n",
       "    </tr>\n",
       "    <tr>\n",
       "      <th>5068032</th>\n",
       "      <td>\\n115985520</td>\n",
       "      <td>Bottom</td>\n",
       "      <td>40.0</td>\n",
       "      <td>Smallville</td>\n",
       "      <td>Chain</td>\n",
       "      <td>2006-12-28</td>\n",
       "      <td>NaT</td>\n",
       "      <td>NaN</td>\n",
       "      <td>0.0</td>\n",
       "      <td>1.0</td>\n",
       "    </tr>\n",
       "    <tr>\n",
       "      <th>5068033</th>\n",
       "      <td>\\n115985521</td>\n",
       "      <td>Bottom</td>\n",
       "      <td>40.0</td>\n",
       "      <td>Smallville</td>\n",
       "      <td>Chain</td>\n",
       "      <td>2006-12-28</td>\n",
       "      <td>NaT</td>\n",
       "      <td>NaN</td>\n",
       "      <td>0.0</td>\n",
       "      <td>1.0</td>\n",
       "    </tr>\n",
       "    <tr>\n",
       "      <th>5068034</th>\n",
       "      <td>\\n115985522</td>\n",
       "      <td>Bottom</td>\n",
       "      <td>40.0</td>\n",
       "      <td>Smallville</td>\n",
       "      <td>Chain</td>\n",
       "      <td>2006-12-28</td>\n",
       "      <td>NaT</td>\n",
       "      <td>NaN</td>\n",
       "      <td>0.0</td>\n",
       "      <td>1.0</td>\n",
       "    </tr>\n",
       "    <tr>\n",
       "      <th>5068035</th>\n",
       "      <td>\\n</td>\n",
       "      <td>NaN</td>\n",
       "      <td>NaN</td>\n",
       "      <td>NaN</td>\n",
       "      <td>NaN</td>\n",
       "      <td>NaT</td>\n",
       "      <td>NaT</td>\n",
       "      <td>NaN</td>\n",
       "      <td>NaN</td>\n",
       "      <td>NaN</td>\n",
       "    </tr>\n",
       "  </tbody>\n",
       "</table>\n",
       "<p>5068036 rows × 10 columns</p>\n",
       "</div>"
      ],
      "text/plain": [
       "         customer_id rate_plan  monthly_fee      market channel start_date  \\\n",
       "0                  2       Top        150.0      Gotham  Dealer 2001-09-16   \n",
       "1                 52    Bottom         25.0  Metropolis    Mail 1997-01-13   \n",
       "2                 76    Bottom         25.0      Gotham  Dealer 2000-12-08   \n",
       "3                 89    Bottom         25.0      Gotham  Dealer 1999-09-16   \n",
       "...              ...       ...          ...         ...     ...        ...   \n",
       "5068032  \\n115985520    Bottom         40.0  Smallville   Chain 2006-12-28   \n",
       "5068033  \\n115985521    Bottom         40.0  Smallville   Chain 2006-12-28   \n",
       "5068034  \\n115985522    Bottom         40.0  Smallville   Chain 2006-12-28   \n",
       "5068035           \\n       NaN          NaN         NaN     NaN        NaT   \n",
       "\n",
       "         stop_date stop_type  tenure  censored  \n",
       "0              NaT       NaN  1929.0       1.0  \n",
       "1       2004-12-17         V  2895.0       0.0  \n",
       "2       2004-10-23         V  1415.0       0.0  \n",
       "3       2004-03-18         V  1645.0       0.0  \n",
       "...            ...       ...     ...       ...  \n",
       "5068032        NaT       NaN     0.0       1.0  \n",
       "5068033        NaT       NaN     0.0       1.0  \n",
       "5068034        NaT       NaN     0.0       1.0  \n",
       "5068035        NaT       NaN     NaN       NaN  \n",
       "\n",
       "[5068036 rows x 10 columns]"
      ]
     },
     "execution_count": 25,
     "metadata": {},
     "output_type": "execute_result"
    }
   ],
   "source": [
    "data"
   ]
  },
  {
   "cell_type": "markdown",
   "metadata": {},
   "source": [
    "#### Histogram"
   ]
  },
  {
   "cell_type": "code",
   "execution_count": 127,
   "metadata": {
    "collapsed": false,
    "scrolled": false
   },
   "outputs": [
    {
     "data": {
      "image/png": "[encoded data removed]",
      "text/plain": [
       "<matplotlib.figure.Figure at 0x7f97cd51f250>"
      ]
     },
     "metadata": {},
     "output_type": "display_data"
    }
   ],
   "source": [
    "n, bins, patches = plt.hist(data['tenure'].fillna(0), 100, normed=1, alpha=0.75)"
   ]
  },
  {
   "cell_type": "code",
   "execution_count": 112,
   "metadata": {
    "collapsed": false
   },
   "outputs": [
    {
     "data": {
      "text/plain": [
       "array(['NaT'], dtype='datetime64[ns]')"
      ]
     },
     "execution_count": 112,
     "metadata": {},
     "output_type": "execute_result"
    }
   ],
   "source": [
    "data.ix[data['censored']==1, 'stop_date'].unique()"
   ]
  },
  {
   "cell_type": "markdown",
   "metadata": {},
   "source": [
    "#### Above we can observe that censored==1 means an individual is alive"
   ]
  },
  {
   "cell_type": "code",
   "execution_count": 14,
   "metadata": {
    "collapsed": false
   },
   "outputs": [
    {
     "data": {
      "text/plain": [
       "Timedelta('2895 days 00:00:00')"
      ]
     },
     "execution_count": 14,
     "metadata": {},
     "output_type": "execute_result"
    }
   ],
   "source": [
    "data['stop_date'][1]-data['start_date'][1]"
   ]
  },
  {
   "cell_type": "code",
   "execution_count": 19,
   "metadata": {
    "collapsed": false,
    "scrolled": true
   },
   "outputs": [
    {
     "name": "stdout",
     "output_type": "stream",
     "text": [
      "1415.0\n"
     ]
    }
   ],
   "source": [
    "data['stop_date'][2]-data['start_date'][2]"
   ]
  },
  {
   "cell_type": "markdown",
   "metadata": {},
   "source": [
    "#### As we can see above, tenure columns holds timedelta between start and stop date"
   ]
  },
  {
   "cell_type": "markdown",
   "metadata": {},
   "source": [
    "### Curva de Sobrevivência"
   ]
  },
  {
   "cell_type": "markdown",
   "metadata": {},
   "source": [
    "#### Array of durations"
   ]
  },
  {
   "cell_type": "code",
   "execution_count": 113,
   "metadata": {
    "collapsed": true
   },
   "outputs": [],
   "source": [
    "T = data['tenure']"
   ]
  },
  {
   "cell_type": "markdown",
   "metadata": {},
   "source": [
    "#### Array of death or alive"
   ]
  },
  {
   "cell_type": "code",
   "execution_count": 114,
   "metadata": {
    "collapsed": true
   },
   "outputs": [],
   "source": [
    "E = data['censored']"
   ]
  },
  {
   "cell_type": "code",
   "execution_count": 115,
   "metadata": {
    "collapsed": false
   },
   "outputs": [
    {
     "data": {
      "text/plain": [
       "<lifelines.KaplanMeierFitter: fitted with 5068036 observations, -9223372036852098731 censored>"
      ]
     },
     "execution_count": 115,
     "metadata": {},
     "output_type": "execute_result"
    }
   ],
   "source": [
    "from lifelines import KaplanMeierFitter\n",
    "kmf = KaplanMeierFitter()\n",
    "kmf.fit(T, event_observed=E) "
   ]
  },
  {
   "cell_type": "code",
   "execution_count": 121,
   "metadata": {
    "collapsed": false
   },
   "outputs": [
    {
     "data": {
      "text/plain": [
       "<matplotlib.axes._subplots.AxesSubplot at 0x7f97ccd0ecd0>"
      ]
     },
     "execution_count": 121,
     "metadata": {},
     "output_type": "execute_result"
    },
    {
     "data": {
      "image/png": "[encoded data removed]",
      "text/plain": [
       "<matplotlib.figure.Figure at 0x7f97eaece1d0>"
      ]
     },
     "metadata": {},
     "output_type": "display_data"
    }
   ],
   "source": [
    "kmf.survival_function_\n",
    "kmf.median_\n",
    "kmf.plot()"
   ]
  },
  {
   "cell_type": "markdown",
   "metadata": {},
   "source": [
    "# P4. Tempo de vida médio de um cliente, com base na curva de sobrevivência: "
   ]
  },
  {
   "cell_type": "code",
   "execution_count": 128,
   "metadata": {
    "collapsed": false
   },
   "outputs": [
    {
     "data": {
      "text/plain": [
       "1178.0"
      ]
     },
     "execution_count": 128,
     "metadata": {},
     "output_type": "execute_result"
    }
   ],
   "source": [
    "kmf.median_"
   ]
  }
 ],
 "metadata": {
  "kernelspec": {
   "display_name": "Python 2",
   "language": "python",
   "name": "python2"
  },
  "language_info": {
   "codemirror_mode": {
    "name": "ipython",
    "version": 2
   },
   "file_extension": ".py",
   "mimetype": "text/x-python",
   "name": "python",
   "nbconvert_exporter": "python",
   "pygments_lexer": "ipython2",
   "version": "2.7.11+"
  }
 },
 "nbformat": 4,
 "nbformat_minor": 0
}
