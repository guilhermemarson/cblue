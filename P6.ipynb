{
 "cells": [
  {
   "cell_type": "code",
   "execution_count": 107,
   "metadata": {
    "collapsed": true
   },
   "outputs": [],
   "source": [
    "%matplotlib inline\n",
    "import pandas as pd\n",
    "from pandas import set_option\n",
    "#Limit dataframe exibition to 8 rows\n",
    "set_option(\"display.max_rows\", 8)\n",
    "import matplotlib.pyplot as plt\n",
    "from pylab import plot\n",
    "from matplotlib.pylab import rcParams\n",
    "rcParams['figure.figsize'] = 15, 6"
   ]
  },
  {
   "cell_type": "code",
   "execution_count": 108,
   "metadata": {
    "collapsed": false
   },
   "outputs": [],
   "source": [
    "veiculos = pd.read_csv('veiculos/veiculos.csv', sep=',')"
   ]
  },
  {
   "cell_type": "code",
   "execution_count": 109,
   "metadata": {
    "collapsed": false
   },
   "outputs": [
    {
     "data": {
      "text/plain": [
       "(5000, 11)"
      ]
     },
     "execution_count": 109,
     "metadata": {},
     "output_type": "execute_result"
    }
   ],
   "source": [
    "veiculos.shape"
   ]
  },
  {
   "cell_type": "code",
   "execution_count": 110,
   "metadata": {
    "collapsed": false
   },
   "outputs": [
    {
     "data": {
      "text/html": [
       "<div>\n",
       "<table border=\"1\" class=\"dataframe\">\n",
       "  <thead>\n",
       "    <tr style=\"text-align: right;\">\n",
       "      <th></th>\n",
       "      <th>Caso</th>\n",
       "      <th>Modelo</th>\n",
       "      <th>Opcionais</th>\n",
       "      <th>Design</th>\n",
       "      <th>Concessionaria</th>\n",
       "      <th>Geral</th>\n",
       "      <th>Renda</th>\n",
       "      <th>Pessoas</th>\n",
       "      <th>Quilometragem</th>\n",
       "      <th>Remodelacao</th>\n",
       "      <th>Idade</th>\n",
       "    </tr>\n",
       "  </thead>\n",
       "  <tbody>\n",
       "    <tr>\n",
       "      <th>0</th>\n",
       "      <td>1</td>\n",
       "      <td>Deltaforce3</td>\n",
       "      <td>Inexistentes</td>\n",
       "      <td>Adiante dos outros</td>\n",
       "      <td>Bastante satisfatória</td>\n",
       "      <td>Muito insatisfeito</td>\n",
       "      <td>22.99</td>\n",
       "      <td>4</td>\n",
       "      <td>447</td>\n",
       "      <td>1</td>\n",
       "      <td>44</td>\n",
       "    </tr>\n",
       "    <tr>\n",
       "      <th>1</th>\n",
       "      <td>2</td>\n",
       "      <td>Chiconaultla</td>\n",
       "      <td>Inexistentes</td>\n",
       "      <td>Adiante dos outros</td>\n",
       "      <td>Muito insatisfatória</td>\n",
       "      <td>Muito insatisfeito</td>\n",
       "      <td>7.28</td>\n",
       "      <td>1</td>\n",
       "      <td>334</td>\n",
       "      <td>2</td>\n",
       "      <td>18</td>\n",
       "    </tr>\n",
       "    <tr>\n",
       "      <th>2</th>\n",
       "      <td>3</td>\n",
       "      <td>Valentiniana</td>\n",
       "      <td>Ar_e_direção</td>\n",
       "      <td>Atualizados</td>\n",
       "      <td>Bastante satisfatória</td>\n",
       "      <td>Muito insatisfeito</td>\n",
       "      <td>31.31</td>\n",
       "      <td>5</td>\n",
       "      <td>465</td>\n",
       "      <td>3</td>\n",
       "      <td>35</td>\n",
       "    </tr>\n",
       "    <tr>\n",
       "      <th>3</th>\n",
       "      <td>4</td>\n",
       "      <td>Deltaforce3</td>\n",
       "      <td>Inexistentes</td>\n",
       "      <td>Atualizados</td>\n",
       "      <td>Satisfatória</td>\n",
       "      <td>Muito insatisfeito</td>\n",
       "      <td>13.52</td>\n",
       "      <td>3</td>\n",
       "      <td>349</td>\n",
       "      <td>4</td>\n",
       "      <td>34</td>\n",
       "    </tr>\n",
       "    <tr>\n",
       "      <th>...</th>\n",
       "      <td>...</td>\n",
       "      <td>...</td>\n",
       "      <td>...</td>\n",
       "      <td>...</td>\n",
       "      <td>...</td>\n",
       "      <td>...</td>\n",
       "      <td>...</td>\n",
       "      <td>...</td>\n",
       "      <td>...</td>\n",
       "      <td>...</td>\n",
       "      <td>...</td>\n",
       "    </tr>\n",
       "    <tr>\n",
       "      <th>4996</th>\n",
       "      <td>4997</td>\n",
       "      <td>SpaceShuttle</td>\n",
       "      <td>Ar_e_direção</td>\n",
       "      <td>Atualizados</td>\n",
       "      <td>Bastante satisfatória</td>\n",
       "      <td>Insatisfeito</td>\n",
       "      <td>23.55</td>\n",
       "      <td>4</td>\n",
       "      <td>559</td>\n",
       "      <td>3</td>\n",
       "      <td>38</td>\n",
       "    </tr>\n",
       "    <tr>\n",
       "      <th>4997</th>\n",
       "      <td>4998</td>\n",
       "      <td>Deltaforce3</td>\n",
       "      <td>Ar_e_direção</td>\n",
       "      <td>Atualizados</td>\n",
       "      <td>Satisfatória</td>\n",
       "      <td>Satisfeito</td>\n",
       "      <td>28.5</td>\n",
       "      <td>5</td>\n",
       "      <td>424</td>\n",
       "      <td>2</td>\n",
       "      <td>38</td>\n",
       "    </tr>\n",
       "    <tr>\n",
       "      <th>4998</th>\n",
       "      <td>4999</td>\n",
       "      <td>Chiconaultla</td>\n",
       "      <td>Inexistentes</td>\n",
       "      <td>Adiante dos outros</td>\n",
       "      <td>Muito insatisfatória</td>\n",
       "      <td>Muito insatisfeito</td>\n",
       "      <td>4.61</td>\n",
       "      <td>1</td>\n",
       "      <td>472</td>\n",
       "      <td>0</td>\n",
       "      <td>31</td>\n",
       "    </tr>\n",
       "    <tr>\n",
       "      <th>4999</th>\n",
       "      <td>5000</td>\n",
       "      <td>Chiconaultla</td>\n",
       "      <td>Inexistentes</td>\n",
       "      <td>Adiante dos outros</td>\n",
       "      <td>Muito insatisfatória</td>\n",
       "      <td>Muito insatisfeito</td>\n",
       "      <td>8.47</td>\n",
       "      <td>1</td>\n",
       "      <td>493</td>\n",
       "      <td>3</td>\n",
       "      <td>30</td>\n",
       "    </tr>\n",
       "  </tbody>\n",
       "</table>\n",
       "<p>5000 rows × 11 columns</p>\n",
       "</div>"
      ],
      "text/plain": [
       "      Caso        Modelo     Opcionais              Design  \\\n",
       "0        1   Deltaforce3  Inexistentes  Adiante dos outros   \n",
       "1        2  Chiconaultla  Inexistentes  Adiante dos outros   \n",
       "2        3  Valentiniana  Ar_e_direção         Atualizados   \n",
       "3        4   Deltaforce3  Inexistentes         Atualizados   \n",
       "...    ...           ...           ...                 ...   \n",
       "4996  4997  SpaceShuttle  Ar_e_direção         Atualizados   \n",
       "4997  4998   Deltaforce3  Ar_e_direção         Atualizados   \n",
       "4998  4999  Chiconaultla  Inexistentes  Adiante dos outros   \n",
       "4999  5000  Chiconaultla  Inexistentes  Adiante dos outros   \n",
       "\n",
       "             Concessionaria               Geral  Renda Pessoas Quilometragem  \\\n",
       "0     Bastante satisfatória  Muito insatisfeito  22.99       4           447   \n",
       "1      Muito insatisfatória  Muito insatisfeito   7.28       1           334   \n",
       "2     Bastante satisfatória  Muito insatisfeito  31.31       5           465   \n",
       "3              Satisfatória  Muito insatisfeito  13.52       3           349   \n",
       "...                     ...                 ...    ...     ...           ...   \n",
       "4996  Bastante satisfatória        Insatisfeito  23.55       4           559   \n",
       "4997           Satisfatória          Satisfeito   28.5       5           424   \n",
       "4998   Muito insatisfatória  Muito insatisfeito   4.61       1           472   \n",
       "4999   Muito insatisfatória  Muito insatisfeito   8.47       1           493   \n",
       "\n",
       "     Remodelacao Idade  \n",
       "0              1    44  \n",
       "1              2    18  \n",
       "2              3    35  \n",
       "3              4    34  \n",
       "...          ...   ...  \n",
       "4996           3    38  \n",
       "4997           2    38  \n",
       "4998           0    31  \n",
       "4999           3    30  \n",
       "\n",
       "[5000 rows x 11 columns]"
      ]
     },
     "execution_count": 110,
     "metadata": {},
     "output_type": "execute_result"
    }
   ],
   "source": [
    "veiculos"
   ]
  },
  {
   "cell_type": "code",
   "execution_count": 111,
   "metadata": {
    "collapsed": false
   },
   "outputs": [
    {
     "data": {
      "text/plain": [
       "Index([u'Caso', u'Modelo', u'Opcionais', u'Design', u'Concessionaria',\n",
       "       u'Geral', u'Renda', u'Pessoas', u'Quilometragem', u'Remodelacao',\n",
       "       u'Idade'],\n",
       "      dtype='object')"
      ]
     },
     "execution_count": 111,
     "metadata": {},
     "output_type": "execute_result"
    }
   ],
   "source": [
    "veiculos.columns"
   ]
  },
  {
   "cell_type": "code",
   "execution_count": 112,
   "metadata": {
    "collapsed": false
   },
   "outputs": [
    {
     "name": "stdout",
     "output_type": "stream",
     "text": [
      "18 clientes não declararam a idade\n"
     ]
    }
   ],
   "source": [
    "print(str(len(veiculos.ix[veiculos['Idade']==' '])) + ' clientes não declararam a idade')"
   ]
  },
  {
   "cell_type": "code",
   "execution_count": 113,
   "metadata": {
    "collapsed": false
   },
   "outputs": [
    {
     "name": "stdout",
     "output_type": "stream",
     "text": [
      "5 clientes não declararam a Km media do veiculo\n"
     ]
    }
   ],
   "source": [
    "print(str(len(veiculos.ix[veiculos['Quilometragem']==' '])) + ' clientes não declararam a Km media do veiculo')"
   ]
  },
  {
   "cell_type": "code",
   "execution_count": 114,
   "metadata": {
    "collapsed": false
   },
   "outputs": [
    {
     "name": "stdout",
     "output_type": "stream",
     "text": [
      "499.751951952 é a média de km rodados por mês\n"
     ]
    }
   ],
   "source": [
    "print(str(veiculos.ix[veiculos['Quilometragem'] !=' ', 'Quilometragem'].astype(int).mean()) + \\\n",
    "      ' é a média de km rodados por mês')"
   ]
  },
  {
   "cell_type": "code",
   "execution_count": 115,
   "metadata": {
    "collapsed": false
   },
   "outputs": [
    {
     "data": {
      "text/plain": [
       "Index([u'Caso', u'Modelo', u'Opcionais', u'Design', u'Concessionaria',\n",
       "       u'Geral', u'Renda', u'Pessoas', u'Quilometragem', u'Remodelacao',\n",
       "       u'Idade'],\n",
       "      dtype='object')"
      ]
     },
     "execution_count": 115,
     "metadata": {},
     "output_type": "execute_result"
    }
   ],
   "source": [
    "veiculos.columns"
   ]
  },
  {
   "cell_type": "code",
   "execution_count": 116,
   "metadata": {
    "collapsed": false
   },
   "outputs": [
    {
     "data": {
      "text/plain": [
       "Chiconaultla    1640\n",
       "Deltaforce3     1254\n",
       "Valentiniana     879\n",
       "SpaceShuttle     686\n",
       "LuxuriousCar     532\n",
       "                   9\n",
       "Name: Modelo, dtype: int64"
      ]
     },
     "execution_count": 116,
     "metadata": {},
     "output_type": "execute_result"
    }
   ],
   "source": [
    "veiculos['Modelo'].value_counts()"
   ]
  },
  {
   "cell_type": "code",
   "execution_count": 117,
   "metadata": {
    "collapsed": false
   },
   "outputs": [
    {
     "name": "stdout",
     "output_type": "stream",
     "text": [
      "41.6559546314 é a média dos proprietários do carro LuxuriousCar\n",
      "30.9540441176 é a média dos proprietários do carro Chiconaultla\n"
     ]
    }
   ],
   "source": [
    "print(str(veiculos.ix[(veiculos['Modelo'] =='LuxuriousCar') & \\\n",
    "                      (veiculos['Idade'] !=' '), 'Idade'].astype(int).mean()) + \\\n",
    "      ' é a média dos proprietários do carro LuxuriousCar')\n",
    "print(str(veiculos.ix[(veiculos['Modelo'] =='Chiconaultla') & \\\n",
    "                      (veiculos['Idade'] !=' '), 'Idade'].astype(int).mean()) + \\\n",
    "      ' é a média dos proprietários do carro Chiconaultla')"
   ]
  },
  {
   "cell_type": "code",
   "execution_count": 118,
   "metadata": {
    "collapsed": false
   },
   "outputs": [
    {
     "data": {
      "text/plain": [
       "Inexistentes        1338\n",
       "Ar_e_direção         247\n",
       "AD_Trio_Elétrico      46\n",
       "ADT_Freios_ABS         5\n",
       "                       4\n",
       "Name: Opcionais, dtype: int64"
      ]
     },
     "execution_count": 118,
     "metadata": {},
     "output_type": "execute_result"
    }
   ],
   "source": [
    "veiculos.ix[veiculos['Modelo'] =='Chiconaultla', 'Opcionais'].value_counts()"
   ]
  },
  {
   "cell_type": "code",
   "execution_count": 119,
   "metadata": {
    "collapsed": false
   },
   "outputs": [
    {
     "data": {
      "text/plain": [
       "ADT_Freios_ABS      222\n",
       "AD_Trio_Elétrico    159\n",
       "Ar_e_direção        137\n",
       "Inexistentes         13\n",
       "                      1\n",
       "Name: Opcionais, dtype: int64"
      ]
     },
     "execution_count": 119,
     "metadata": {},
     "output_type": "execute_result"
    }
   ],
   "source": [
    "veiculos.ix[veiculos['Modelo'] =='LuxuriousCar', 'Opcionais'].value_counts()"
   ]
  },
  {
   "cell_type": "code",
   "execution_count": 42,
   "metadata": {
    "collapsed": false,
    "scrolled": true
   },
   "outputs": [
    {
     "data": {
      "image/png": "[encoded data removed]",
      "text/plain": [
       "<matplotlib.figure.Figure at 0x7fd721664bd0>"
      ]
     },
     "metadata": {},
     "output_type": "display_data"
    }
   ],
   "source": [
    "n, bins, patches = plt.hist(veiculos.ix[veiculos['Idade'] !=' ', 'Idade'].astype(int)\\\n",
    "                            , 50, normed=1, alpha=1)"
   ]
  },
  {
   "cell_type": "code",
   "execution_count": 120,
   "metadata": {
    "collapsed": true
   },
   "outputs": [],
   "source": [
    "from sklearn.cluster import KMeans\n",
    "from sklearn.preprocessing import OneHotEncoder"
   ]
  },
  {
   "cell_type": "code",
   "execution_count": 122,
   "metadata": {
    "collapsed": true
   },
   "outputs": [],
   "source": [
    "veiculos = veiculos.drop('Caso', 1)"
   ]
  },
  {
   "cell_type": "markdown",
   "metadata": {},
   "source": [
    "#### Drop lines that have columns with ' ' "
   ]
  },
  {
   "cell_type": "code",
   "execution_count": 123,
   "metadata": {
    "collapsed": true
   },
   "outputs": [],
   "source": [
    "for colunas in veiculos.columns:\n",
    "    veiculos = veiculos.ix[veiculos[colunas] != ' ']"
   ]
  },
  {
   "cell_type": "code",
   "execution_count": 124,
   "metadata": {
    "collapsed": false
   },
   "outputs": [],
   "source": [
    "colunas = []\n",
    "for col in veiculos.columns: \n",
    "    if len(veiculos[col].unique()) <= 6:\n",
    "        colunas.append(col)"
   ]
  },
  {
   "cell_type": "code",
   "execution_count": 125,
   "metadata": {
    "collapsed": false
   },
   "outputs": [
    {
     "data": {
      "text/plain": [
       "['Modelo',\n",
       " 'Opcionais',\n",
       " 'Design',\n",
       " 'Concessionaria',\n",
       " 'Geral',\n",
       " 'Pessoas',\n",
       " 'Remodelacao']"
      ]
     },
     "execution_count": 125,
     "metadata": {},
     "output_type": "execute_result"
    }
   ],
   "source": [
    "colunas"
   ]
  },
  {
   "cell_type": "markdown",
   "metadata": {},
   "source": [
    "#### Convert number columns to float/int"
   ]
  },
  {
   "cell_type": "code",
   "execution_count": 126,
   "metadata": {
    "collapsed": true
   },
   "outputs": [],
   "source": [
    "veiculos['Renda'] = veiculos['Renda'].astype(float)\n",
    "veiculos['Quilometragem'] = veiculos['Quilometragem'].astype(int)\n",
    "veiculos['Idade'] = veiculos['Idade'].astype(int)"
   ]
  },
  {
   "cell_type": "markdown",
   "metadata": {},
   "source": [
    "### One hot on categorical variables"
   ]
  },
  {
   "cell_type": "code",
   "execution_count": 127,
   "metadata": {
    "collapsed": true
   },
   "outputs": [],
   "source": [
    "# for each item in object transform into factor and then into 'one-hot'\n",
    "# for example: [C,D,E,E] --factor--> [0,1,2,2] --One-hot--> [[1,0,0,0],[0,1,0,0],[0,0,1,0],[0,0,0,1]]\n",
    "novasCol = []\n",
    "for i in range(len(colunas)):\n",
    "    o = colunas[i]\n",
    "\n",
    "    coluna = pd.Series(pd.factorize(veiculos.ix[:, o]))[0]\n",
    "    \n",
    "    enc = OneHotEncoder(handle_unknown='ignore')\n",
    "    \n",
    "    x = enc.fit_transform(coluna.reshape(-1,1))\n",
    "    \n",
    "    \n",
    "    df = pd.DataFrame(x.toarray())\n",
    "    \n",
    "    df.columns = [o + \"-\" + str(x) for x in enc.active_features_]\n",
    "    \n",
    "    \n",
    "    novasCol.append(df)\n",
    "    \n",
    "    \n",
    "    del veiculos[o]"
   ]
  },
  {
   "cell_type": "code",
   "execution_count": 128,
   "metadata": {
    "collapsed": false
   },
   "outputs": [],
   "source": [
    "df = pd.DataFrame(pd.concat(novasCol, axis=1))\n",
    "\n",
    "del novasCol"
   ]
  },
  {
   "cell_type": "code",
   "execution_count": 129,
   "metadata": {
    "collapsed": true
   },
   "outputs": [],
   "source": [
    "veiculos = pd.concat([veiculos, df ], axis=1)"
   ]
  },
  {
   "cell_type": "code",
   "execution_count": 143,
   "metadata": {
    "collapsed": false
   },
   "outputs": [
    {
     "data": {
      "text/html": [
       "<div>\n",
       "<table border=\"1\" class=\"dataframe\">\n",
       "  <thead>\n",
       "    <tr style=\"text-align: right;\">\n",
       "      <th></th>\n",
       "      <th>Renda</th>\n",
       "      <th>Quilometragem</th>\n",
       "      <th>Idade</th>\n",
       "      <th>Modelo-0</th>\n",
       "      <th>Modelo-1</th>\n",
       "      <th>Modelo-2</th>\n",
       "      <th>Modelo-3</th>\n",
       "      <th>Modelo-4</th>\n",
       "      <th>Opcionais-0</th>\n",
       "      <th>Opcionais-1</th>\n",
       "      <th>...</th>\n",
       "      <th>Pessoas-2</th>\n",
       "      <th>Pessoas-3</th>\n",
       "      <th>Pessoas-4</th>\n",
       "      <th>Pessoas-5</th>\n",
       "      <th>Remodelacao-0</th>\n",
       "      <th>Remodelacao-1</th>\n",
       "      <th>Remodelacao-2</th>\n",
       "      <th>Remodelacao-3</th>\n",
       "      <th>Remodelacao-4</th>\n",
       "      <th>Remodelacao-5</th>\n",
       "    </tr>\n",
       "  </thead>\n",
       "  <tbody>\n",
       "    <tr>\n",
       "      <th>0</th>\n",
       "      <td>22.99</td>\n",
       "      <td>447.0</td>\n",
       "      <td>44.0</td>\n",
       "      <td>1.0</td>\n",
       "      <td>0.0</td>\n",
       "      <td>0.0</td>\n",
       "      <td>0.0</td>\n",
       "      <td>0.0</td>\n",
       "      <td>1.0</td>\n",
       "      <td>0.0</td>\n",
       "      <td>...</td>\n",
       "      <td>0.0</td>\n",
       "      <td>0.0</td>\n",
       "      <td>0.0</td>\n",
       "      <td>0.0</td>\n",
       "      <td>1.0</td>\n",
       "      <td>0.0</td>\n",
       "      <td>0.0</td>\n",
       "      <td>0.0</td>\n",
       "      <td>0.0</td>\n",
       "      <td>0.0</td>\n",
       "    </tr>\n",
       "    <tr>\n",
       "      <th>1</th>\n",
       "      <td>7.28</td>\n",
       "      <td>334.0</td>\n",
       "      <td>18.0</td>\n",
       "      <td>0.0</td>\n",
       "      <td>1.0</td>\n",
       "      <td>0.0</td>\n",
       "      <td>0.0</td>\n",
       "      <td>0.0</td>\n",
       "      <td>1.0</td>\n",
       "      <td>0.0</td>\n",
       "      <td>...</td>\n",
       "      <td>0.0</td>\n",
       "      <td>0.0</td>\n",
       "      <td>0.0</td>\n",
       "      <td>0.0</td>\n",
       "      <td>0.0</td>\n",
       "      <td>1.0</td>\n",
       "      <td>0.0</td>\n",
       "      <td>0.0</td>\n",
       "      <td>0.0</td>\n",
       "      <td>0.0</td>\n",
       "    </tr>\n",
       "    <tr>\n",
       "      <th>2</th>\n",
       "      <td>31.31</td>\n",
       "      <td>465.0</td>\n",
       "      <td>35.0</td>\n",
       "      <td>0.0</td>\n",
       "      <td>0.0</td>\n",
       "      <td>1.0</td>\n",
       "      <td>0.0</td>\n",
       "      <td>0.0</td>\n",
       "      <td>0.0</td>\n",
       "      <td>1.0</td>\n",
       "      <td>...</td>\n",
       "      <td>1.0</td>\n",
       "      <td>0.0</td>\n",
       "      <td>0.0</td>\n",
       "      <td>0.0</td>\n",
       "      <td>0.0</td>\n",
       "      <td>0.0</td>\n",
       "      <td>1.0</td>\n",
       "      <td>0.0</td>\n",
       "      <td>0.0</td>\n",
       "      <td>0.0</td>\n",
       "    </tr>\n",
       "    <tr>\n",
       "      <th>3</th>\n",
       "      <td>13.52</td>\n",
       "      <td>349.0</td>\n",
       "      <td>34.0</td>\n",
       "      <td>1.0</td>\n",
       "      <td>0.0</td>\n",
       "      <td>0.0</td>\n",
       "      <td>0.0</td>\n",
       "      <td>0.0</td>\n",
       "      <td>1.0</td>\n",
       "      <td>0.0</td>\n",
       "      <td>...</td>\n",
       "      <td>0.0</td>\n",
       "      <td>1.0</td>\n",
       "      <td>0.0</td>\n",
       "      <td>0.0</td>\n",
       "      <td>0.0</td>\n",
       "      <td>0.0</td>\n",
       "      <td>0.0</td>\n",
       "      <td>1.0</td>\n",
       "      <td>0.0</td>\n",
       "      <td>0.0</td>\n",
       "    </tr>\n",
       "    <tr>\n",
       "      <th>...</th>\n",
       "      <td>...</td>\n",
       "      <td>...</td>\n",
       "      <td>...</td>\n",
       "      <td>...</td>\n",
       "      <td>...</td>\n",
       "      <td>...</td>\n",
       "      <td>...</td>\n",
       "      <td>...</td>\n",
       "      <td>...</td>\n",
       "      <td>...</td>\n",
       "      <td>...</td>\n",
       "      <td>...</td>\n",
       "      <td>...</td>\n",
       "      <td>...</td>\n",
       "      <td>...</td>\n",
       "      <td>...</td>\n",
       "      <td>...</td>\n",
       "      <td>...</td>\n",
       "      <td>...</td>\n",
       "      <td>...</td>\n",
       "      <td>...</td>\n",
       "    </tr>\n",
       "    <tr>\n",
       "      <th>4996</th>\n",
       "      <td>23.55</td>\n",
       "      <td>559.0</td>\n",
       "      <td>38.0</td>\n",
       "      <td>NaN</td>\n",
       "      <td>NaN</td>\n",
       "      <td>NaN</td>\n",
       "      <td>NaN</td>\n",
       "      <td>NaN</td>\n",
       "      <td>NaN</td>\n",
       "      <td>NaN</td>\n",
       "      <td>...</td>\n",
       "      <td>NaN</td>\n",
       "      <td>NaN</td>\n",
       "      <td>NaN</td>\n",
       "      <td>NaN</td>\n",
       "      <td>NaN</td>\n",
       "      <td>NaN</td>\n",
       "      <td>NaN</td>\n",
       "      <td>NaN</td>\n",
       "      <td>NaN</td>\n",
       "      <td>NaN</td>\n",
       "    </tr>\n",
       "    <tr>\n",
       "      <th>4997</th>\n",
       "      <td>28.50</td>\n",
       "      <td>424.0</td>\n",
       "      <td>38.0</td>\n",
       "      <td>NaN</td>\n",
       "      <td>NaN</td>\n",
       "      <td>NaN</td>\n",
       "      <td>NaN</td>\n",
       "      <td>NaN</td>\n",
       "      <td>NaN</td>\n",
       "      <td>NaN</td>\n",
       "      <td>...</td>\n",
       "      <td>NaN</td>\n",
       "      <td>NaN</td>\n",
       "      <td>NaN</td>\n",
       "      <td>NaN</td>\n",
       "      <td>NaN</td>\n",
       "      <td>NaN</td>\n",
       "      <td>NaN</td>\n",
       "      <td>NaN</td>\n",
       "      <td>NaN</td>\n",
       "      <td>NaN</td>\n",
       "    </tr>\n",
       "    <tr>\n",
       "      <th>4998</th>\n",
       "      <td>4.61</td>\n",
       "      <td>472.0</td>\n",
       "      <td>31.0</td>\n",
       "      <td>NaN</td>\n",
       "      <td>NaN</td>\n",
       "      <td>NaN</td>\n",
       "      <td>NaN</td>\n",
       "      <td>NaN</td>\n",
       "      <td>NaN</td>\n",
       "      <td>NaN</td>\n",
       "      <td>...</td>\n",
       "      <td>NaN</td>\n",
       "      <td>NaN</td>\n",
       "      <td>NaN</td>\n",
       "      <td>NaN</td>\n",
       "      <td>NaN</td>\n",
       "      <td>NaN</td>\n",
       "      <td>NaN</td>\n",
       "      <td>NaN</td>\n",
       "      <td>NaN</td>\n",
       "      <td>NaN</td>\n",
       "    </tr>\n",
       "    <tr>\n",
       "      <th>4999</th>\n",
       "      <td>8.47</td>\n",
       "      <td>493.0</td>\n",
       "      <td>30.0</td>\n",
       "      <td>NaN</td>\n",
       "      <td>NaN</td>\n",
       "      <td>NaN</td>\n",
       "      <td>NaN</td>\n",
       "      <td>NaN</td>\n",
       "      <td>NaN</td>\n",
       "      <td>NaN</td>\n",
       "      <td>...</td>\n",
       "      <td>NaN</td>\n",
       "      <td>NaN</td>\n",
       "      <td>NaN</td>\n",
       "      <td>NaN</td>\n",
       "      <td>NaN</td>\n",
       "      <td>NaN</td>\n",
       "      <td>NaN</td>\n",
       "      <td>NaN</td>\n",
       "      <td>NaN</td>\n",
       "      <td>NaN</td>\n",
       "    </tr>\n",
       "  </tbody>\n",
       "</table>\n",
       "<p>5000 rows × 36 columns</p>\n",
       "</div>"
      ],
      "text/plain": [
       "      Renda  Quilometragem  Idade  Modelo-0  Modelo-1  Modelo-2  Modelo-3  \\\n",
       "0     22.99          447.0   44.0       1.0       0.0       0.0       0.0   \n",
       "1      7.28          334.0   18.0       0.0       1.0       0.0       0.0   \n",
       "2     31.31          465.0   35.0       0.0       0.0       1.0       0.0   \n",
       "3     13.52          349.0   34.0       1.0       0.0       0.0       0.0   \n",
       "...     ...            ...    ...       ...       ...       ...       ...   \n",
       "4996  23.55          559.0   38.0       NaN       NaN       NaN       NaN   \n",
       "4997  28.50          424.0   38.0       NaN       NaN       NaN       NaN   \n",
       "4998   4.61          472.0   31.0       NaN       NaN       NaN       NaN   \n",
       "4999   8.47          493.0   30.0       NaN       NaN       NaN       NaN   \n",
       "\n",
       "      Modelo-4  Opcionais-0  Opcionais-1      ...        Pessoas-2  Pessoas-3  \\\n",
       "0          0.0          1.0          0.0      ...              0.0        0.0   \n",
       "1          0.0          1.0          0.0      ...              0.0        0.0   \n",
       "2          0.0          0.0          1.0      ...              1.0        0.0   \n",
       "3          0.0          1.0          0.0      ...              0.0        1.0   \n",
       "...        ...          ...          ...      ...              ...        ...   \n",
       "4996       NaN          NaN          NaN      ...              NaN        NaN   \n",
       "4997       NaN          NaN          NaN      ...              NaN        NaN   \n",
       "4998       NaN          NaN          NaN      ...              NaN        NaN   \n",
       "4999       NaN          NaN          NaN      ...              NaN        NaN   \n",
       "\n",
       "      Pessoas-4  Pessoas-5  Remodelacao-0  Remodelacao-1  Remodelacao-2  \\\n",
       "0           0.0        0.0            1.0            0.0            0.0   \n",
       "1           0.0        0.0            0.0            1.0            0.0   \n",
       "2           0.0        0.0            0.0            0.0            1.0   \n",
       "3           0.0        0.0            0.0            0.0            0.0   \n",
       "...         ...        ...            ...            ...            ...   \n",
       "4996        NaN        NaN            NaN            NaN            NaN   \n",
       "4997        NaN        NaN            NaN            NaN            NaN   \n",
       "4998        NaN        NaN            NaN            NaN            NaN   \n",
       "4999        NaN        NaN            NaN            NaN            NaN   \n",
       "\n",
       "      Remodelacao-3  Remodelacao-4  Remodelacao-5  \n",
       "0               0.0            0.0            0.0  \n",
       "1               0.0            0.0            0.0  \n",
       "2               0.0            0.0            0.0  \n",
       "3               1.0            0.0            0.0  \n",
       "...             ...            ...            ...  \n",
       "4996            NaN            NaN            NaN  \n",
       "4997            NaN            NaN            NaN  \n",
       "4998            NaN            NaN            NaN  \n",
       "4999            NaN            NaN            NaN  \n",
       "\n",
       "[5000 rows x 36 columns]"
      ]
     },
     "execution_count": 143,
     "metadata": {},
     "output_type": "execute_result"
    }
   ],
   "source": [
    "veiculos"
   ]
  },
  {
   "cell_type": "code",
   "execution_count": 144,
   "metadata": {
    "collapsed": false
   },
   "outputs": [],
   "source": [
    "# y_pred = KMeans(n_clusters=8, n_jobs=-1).fit_predict(veiculos.fillna(0))"
   ]
  }
 ],
 "metadata": {
  "kernelspec": {
   "display_name": "Python 2",
   "language": "python",
   "name": "python2"
  },
  "language_info": {
   "codemirror_mode": {
    "name": "ipython",
    "version": 2
   },
   "file_extension": ".py",
   "mimetype": "text/x-python",
   "name": "python",
   "nbconvert_exporter": "python",
   "pygments_lexer": "ipython2",
   "version": "2.7.11+"
  }
 },
 "nbformat": 4,
 "nbformat_minor": 0
}
