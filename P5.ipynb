{
 "cells": [
  {
   "cell_type": "code",
   "execution_count": 14,
   "metadata": {
    "collapsed": true
   },
   "outputs": [],
   "source": [
    "%matplotlib inline\n",
    "import pandas as pd\n",
    "from pandas import set_option\n",
    "#Limit dataframe exibition to 8 rows\n",
    "set_option(\"display.max_rows\", 8)\n",
    "import matplotlib.pyplot as plt\n",
    "from pylab import plot\n",
    "from matplotlib.pylab import rcParams\n",
    "rcParams['figure.figsize'] = 15, 6"
   ]
  },
  {
   "cell_type": "code",
   "execution_count": 15,
   "metadata": {
    "collapsed": false
   },
   "outputs": [],
   "source": [
    "customers = pd.read_csv('orders_customers/customers.txt', sep='\\t', lineterminator='\\r')"
   ]
  },
  {
   "cell_type": "code",
   "execution_count": 16,
   "metadata": {
    "collapsed": true
   },
   "outputs": [],
   "source": [
    "orders = pd.read_csv('orders_customers/orders.txt', sep='\\t', lineterminator='\\r')"
   ]
  },
  {
   "cell_type": "code",
   "execution_count": 47,
   "metadata": {
    "collapsed": false
   },
   "outputs": [
    {
     "data": {
      "text/html": [
       "<div>\n",
       "<table border=\"1\" class=\"dataframe\">\n",
       "  <thead>\n",
       "    <tr style=\"text-align: right;\">\n",
       "      <th></th>\n",
       "      <th>orderid</th>\n",
       "      <th>customerid</th>\n",
       "      <th>campaignid</th>\n",
       "      <th>orderdate</th>\n",
       "      <th>city</th>\n",
       "      <th>state</th>\n",
       "      <th>zipcode</th>\n",
       "      <th>paymenttype</th>\n",
       "      <th>totalprice</th>\n",
       "      <th>numorderlines</th>\n",
       "      <th>numunits</th>\n",
       "    </tr>\n",
       "  </thead>\n",
       "  <tbody>\n",
       "  </tbody>\n",
       "</table>\n",
       "</div>"
      ],
      "text/plain": [
       "Empty DataFrame\n",
       "Columns: [orderid, customerid, campaignid, orderdate, city, state, zipcode, paymenttype, totalprice, numorderlines, numunits]\n",
       "Index: []"
      ]
     },
     "execution_count": 47,
     "metadata": {},
     "output_type": "execute_result"
    }
   ],
   "source": [
    "orders.ix[orders['customerid']==0]"
   ]
  },
  {
   "cell_type": "code",
   "execution_count": 43,
   "metadata": {
    "collapsed": false,
    "scrolled": true
   },
   "outputs": [
    {
     "data": {
      "text/html": [
       "<div>\n",
       "<table border=\"1\" class=\"dataframe\">\n",
       "  <thead>\n",
       "    <tr style=\"text-align: right;\">\n",
       "      <th></th>\n",
       "      <th>customerid</th>\n",
       "      <th>householdid</th>\n",
       "      <th>gender</th>\n",
       "      <th>firstname</th>\n",
       "    </tr>\n",
       "  </thead>\n",
       "  <tbody>\n",
       "  </tbody>\n",
       "</table>\n",
       "</div>"
      ],
      "text/plain": [
       "Empty DataFrame\n",
       "Columns: [customerid, householdid, gender, firstname]\n",
       "Index: []"
      ]
     },
     "execution_count": 43,
     "metadata": {},
     "output_type": "execute_result"
    }
   ],
   "source": [
    "customers.ix[customers['customerid']==0]"
   ]
  },
  {
   "cell_type": "markdown",
   "metadata": {},
   "source": [
    "### As we can see above, customerid==0 is not tracked so we will drop them"
   ]
  },
  {
   "cell_type": "code",
   "execution_count": 45,
   "metadata": {
    "collapsed": true
   },
   "outputs": [],
   "source": [
    "orders = orders.ix[orders['customerid']!=0]"
   ]
  },
  {
   "cell_type": "code",
   "execution_count": 48,
   "metadata": {
    "collapsed": false
   },
   "outputs": [
    {
     "data": {
      "text/html": [
       "<div>\n",
       "<table border=\"1\" class=\"dataframe\">\n",
       "  <thead>\n",
       "    <tr style=\"text-align: right;\">\n",
       "      <th></th>\n",
       "      <th>orderid</th>\n",
       "      <th>customerid</th>\n",
       "      <th>campaignid</th>\n",
       "      <th>orderdate</th>\n",
       "      <th>city</th>\n",
       "      <th>state</th>\n",
       "      <th>zipcode</th>\n",
       "      <th>paymenttype</th>\n",
       "      <th>totalprice</th>\n",
       "      <th>numorderlines</th>\n",
       "      <th>numunits</th>\n",
       "    </tr>\n",
       "  </thead>\n",
       "  <tbody>\n",
       "    <tr>\n",
       "      <th>0</th>\n",
       "      <td>1002854</td>\n",
       "      <td>45978.0</td>\n",
       "      <td>2141.0</td>\n",
       "      <td>2009-10-13</td>\n",
       "      <td>NEWTON</td>\n",
       "      <td>MA</td>\n",
       "      <td>02459</td>\n",
       "      <td>VI</td>\n",
       "      <td>190.00</td>\n",
       "      <td>3.0</td>\n",
       "      <td>3.0</td>\n",
       "    </tr>\n",
       "    <tr>\n",
       "      <th>1</th>\n",
       "      <td>1002855</td>\n",
       "      <td>125381.0</td>\n",
       "      <td>2173.0</td>\n",
       "      <td>2009-10-13</td>\n",
       "      <td>NEW ROCHELLE</td>\n",
       "      <td>NY</td>\n",
       "      <td>10804</td>\n",
       "      <td>VI</td>\n",
       "      <td>10.00</td>\n",
       "      <td>1.0</td>\n",
       "      <td>1.0</td>\n",
       "    </tr>\n",
       "    <tr>\n",
       "      <th>2</th>\n",
       "      <td>1002856</td>\n",
       "      <td>103122.0</td>\n",
       "      <td>2141.0</td>\n",
       "      <td>2011-06-02</td>\n",
       "      <td>MIAMI</td>\n",
       "      <td>FL</td>\n",
       "      <td>33137</td>\n",
       "      <td>AE</td>\n",
       "      <td>35.22</td>\n",
       "      <td>2.0</td>\n",
       "      <td>2.0</td>\n",
       "    </tr>\n",
       "    <tr>\n",
       "      <th>3</th>\n",
       "      <td>1002857</td>\n",
       "      <td>130980.0</td>\n",
       "      <td>2173.0</td>\n",
       "      <td>2009-10-14</td>\n",
       "      <td>E RUTHERFORD</td>\n",
       "      <td>NJ</td>\n",
       "      <td>07073</td>\n",
       "      <td>AE</td>\n",
       "      <td>10.00</td>\n",
       "      <td>1.0</td>\n",
       "      <td>1.0</td>\n",
       "    </tr>\n",
       "    <tr>\n",
       "      <th>...</th>\n",
       "      <td>...</td>\n",
       "      <td>...</td>\n",
       "      <td>...</td>\n",
       "      <td>...</td>\n",
       "      <td>...</td>\n",
       "      <td>...</td>\n",
       "      <td>...</td>\n",
       "      <td>...</td>\n",
       "      <td>...</td>\n",
       "      <td>...</td>\n",
       "      <td>...</td>\n",
       "    </tr>\n",
       "    <tr>\n",
       "      <th>192980</th>\n",
       "      <td>\\n1643149</td>\n",
       "      <td>188938.0</td>\n",
       "      <td>2236.0</td>\n",
       "      <td>2016-09-18</td>\n",
       "      <td>HOUSTON</td>\n",
       "      <td>TX</td>\n",
       "      <td>77070</td>\n",
       "      <td>VI</td>\n",
       "      <td>16.95</td>\n",
       "      <td>1.0</td>\n",
       "      <td>1.0</td>\n",
       "    </tr>\n",
       "    <tr>\n",
       "      <th>192981</th>\n",
       "      <td>\\n1643150</td>\n",
       "      <td>189517.0</td>\n",
       "      <td>2236.0</td>\n",
       "      <td>2016-09-18</td>\n",
       "      <td>PITTSBURGH</td>\n",
       "      <td>PA</td>\n",
       "      <td>15234</td>\n",
       "      <td>MC</td>\n",
       "      <td>22.95</td>\n",
       "      <td>1.0</td>\n",
       "      <td>1.0</td>\n",
       "    </tr>\n",
       "    <tr>\n",
       "      <th>192982</th>\n",
       "      <td>\\n1643157</td>\n",
       "      <td>167434.0</td>\n",
       "      <td>2141.0</td>\n",
       "      <td>2016-09-20</td>\n",
       "      <td>NEW YORK</td>\n",
       "      <td>NY</td>\n",
       "      <td>10027</td>\n",
       "      <td>MC</td>\n",
       "      <td>49.45</td>\n",
       "      <td>1.0</td>\n",
       "      <td>1.0</td>\n",
       "    </tr>\n",
       "    <tr>\n",
       "      <th>192983</th>\n",
       "      <td>\\n</td>\n",
       "      <td>NaN</td>\n",
       "      <td>NaN</td>\n",
       "      <td>NaT</td>\n",
       "      <td>NaN</td>\n",
       "      <td>NaN</td>\n",
       "      <td>NaN</td>\n",
       "      <td>NaN</td>\n",
       "      <td>NaN</td>\n",
       "      <td>NaN</td>\n",
       "      <td>NaN</td>\n",
       "    </tr>\n",
       "  </tbody>\n",
       "</table>\n",
       "<p>189560 rows × 11 columns</p>\n",
       "</div>"
      ],
      "text/plain": [
       "          orderid  customerid  campaignid  orderdate          city state  \\\n",
       "0         1002854     45978.0      2141.0 2009-10-13        NEWTON    MA   \n",
       "1         1002855    125381.0      2173.0 2009-10-13  NEW ROCHELLE    NY   \n",
       "2         1002856    103122.0      2141.0 2011-06-02         MIAMI    FL   \n",
       "3         1002857    130980.0      2173.0 2009-10-14  E RUTHERFORD    NJ   \n",
       "...           ...         ...         ...        ...           ...   ...   \n",
       "192980  \\n1643149    188938.0      2236.0 2016-09-18       HOUSTON    TX   \n",
       "192981  \\n1643150    189517.0      2236.0 2016-09-18    PITTSBURGH    PA   \n",
       "192982  \\n1643157    167434.0      2141.0 2016-09-20      NEW YORK    NY   \n",
       "192983         \\n         NaN         NaN        NaT           NaN   NaN   \n",
       "\n",
       "       zipcode paymenttype  totalprice  numorderlines  numunits  \n",
       "0        02459          VI      190.00            3.0       3.0  \n",
       "1        10804          VI       10.00            1.0       1.0  \n",
       "2        33137          AE       35.22            2.0       2.0  \n",
       "3        07073          AE       10.00            1.0       1.0  \n",
       "...        ...         ...         ...            ...       ...  \n",
       "192980   77070          VI       16.95            1.0       1.0  \n",
       "192981   15234          MC       22.95            1.0       1.0  \n",
       "192982   10027          MC       49.45            1.0       1.0  \n",
       "192983     NaN         NaN         NaN            NaN       NaN  \n",
       "\n",
       "[189560 rows x 11 columns]"
      ]
     },
     "execution_count": 48,
     "metadata": {},
     "output_type": "execute_result"
    }
   ],
   "source": [
    "orders"
   ]
  },
  {
   "cell_type": "code",
   "execution_count": 51,
   "metadata": {
    "collapsed": false
   },
   "outputs": [],
   "source": [
    "orders.reset_index(drop=True, inplace=True)"
   ]
  },
  {
   "cell_type": "code",
   "execution_count": 52,
   "metadata": {
    "collapsed": false
   },
   "outputs": [
    {
     "data": {
      "text/plain": [
       "189560"
      ]
     },
     "execution_count": 52,
     "metadata": {},
     "output_type": "execute_result"
    }
   ],
   "source": [
    "orders.shape[0]"
   ]
  },
  {
   "cell_type": "code",
   "execution_count": 54,
   "metadata": {
    "collapsed": false
   },
   "outputs": [
    {
     "data": {
      "text/plain": [
       "189560"
      ]
     },
     "execution_count": 54,
     "metadata": {},
     "output_type": "execute_result"
    }
   ],
   "source": [
    "len(orders['customerid'].unique())"
   ]
  },
  {
   "cell_type": "markdown",
   "metadata": {},
   "source": [
    "### As we can see above, the orders table has only 1 record for each customer"
   ]
  },
  {
   "cell_type": "code",
   "execution_count": 55,
   "metadata": {
    "collapsed": false
   },
   "outputs": [
    {
     "name": "stderr",
     "output_type": "stream",
     "text": [
      "/home/guilherme/ENV/lib/python2.7/site-packages/ipykernel/__main__.py:1: SettingWithCopyWarning: \n",
      "A value is trying to be set on a copy of a slice from a DataFrame.\n",
      "Try using .loc[row_indexer,col_indexer] = value instead\n",
      "\n",
      "See the caveats in the documentation: http://pandas.pydata.org/pandas-docs/stable/indexing.html#indexing-view-versus-copy\n",
      "  if __name__ == '__main__':\n"
     ]
    }
   ],
   "source": [
    "orders['orderdate'] = pd.to_datetime(orders['orderdate'])"
   ]
  },
  {
   "cell_type": "code",
   "execution_count": 56,
   "metadata": {
    "collapsed": false
   },
   "outputs": [
    {
     "data": {
      "text/plain": [
       "2668"
      ]
     },
     "execution_count": 56,
     "metadata": {},
     "output_type": "execute_result"
    }
   ],
   "source": [
    "orders.ix[orders['orderdate']>'2016-07-17'].shape[0]"
   ]
  },
  {
   "cell_type": "code",
   "execution_count": 57,
   "metadata": {
    "collapsed": false
   },
   "outputs": [],
   "source": [
    "today = orders['orderdate'].max()"
   ]
  },
  {
   "cell_type": "markdown",
   "metadata": {},
   "source": [
    "### As we have some order dates greater than today (2016-08-17), we will assume that the greatest order date is today's date"
   ]
  },
  {
   "cell_type": "code",
   "execution_count": 116,
   "metadata": {
    "collapsed": false
   },
   "outputs": [],
   "source": [
    "rfmTable = orders.groupby(by='customerid').agg({ 'orderdate' : lambda x: (today - x.max()).days, \\\n",
    "                                               'orderid': lambda x: len(x), \\\n",
    "                                               'totalprice': lambda x: x.sum()})"
   ]
  },
  {
   "cell_type": "code",
   "execution_count": 117,
   "metadata": {
    "collapsed": false
   },
   "outputs": [],
   "source": [
    "rfmTable['orderdate'] = rfmTable['orderdate'].astype(int)\n",
    "rfmTable.rename(columns={'orderdate': 'R', 'orderid': 'F', 'totalprice': 'M'}, inplace=True)"
   ]
  },
  {
   "cell_type": "code",
   "execution_count": 118,
   "metadata": {
    "collapsed": false
   },
   "outputs": [],
   "source": [
    "rfmTable.sort_values(by=['R','F','M'], ascending=True, inplace=True)\n",
    "rfmTable.reset_index(inplace=True)"
   ]
  },
  {
   "cell_type": "code",
   "execution_count": 119,
   "metadata": {
    "collapsed": false
   },
   "outputs": [],
   "source": [
    "# Calculate the size of the quartile\n",
    "quartile = rfmTable.shape[0]//4"
   ]
  },
  {
   "cell_type": "code",
   "execution_count": 120,
   "metadata": {
    "collapsed": false
   },
   "outputs": [],
   "source": [
    "R1, R2, R3, R4 = rfmTable.ix[:quartile, :], rfmTable.ix[(quartile+1):(quartile*2), :], \\\n",
    "rfmTable.ix[((quartile*2)+1):(quartile*3), :], rfmTable.ix[((quartile*3)+1):, :]"
   ]
  },
  {
   "cell_type": "code",
   "execution_count": 121,
   "metadata": {
    "collapsed": true
   },
   "outputs": [],
   "source": [
    "rfmTable.sort_values(by=['M'], ascending=False, inplace=True)\n",
    "rfmTable.reset_index(inplace=True)"
   ]
  },
  {
   "cell_type": "code",
   "execution_count": 122,
   "metadata": {
    "collapsed": true
   },
   "outputs": [],
   "source": [
    "M1, M2, M3, M4 = rfmTable.ix[:quartile, :], rfmTable.ix[(quartile+1):(quartile*2), :], \\\n",
    "rfmTable.ix[((quartile*2)+1):(quartile*3), :], rfmTable.ix[((quartile*3)+1):, :]"
   ]
  },
  {
   "cell_type": "markdown",
   "metadata": {},
   "source": [
    "#### As we have only one order per customer, we can't procede with the most complex and interesting analysis of RFM, but we still can identify R1 as the customers who did the most recent orders. Also M1 tell us who spent more money. Unfortunately we can't say who are our best or more loyal customers. We can't sey either who are our new spenders, loyal Joes, and lot's of other categories that are possible to identify using RFM"
   ]
  }
 ],
 "metadata": {
  "kernelspec": {
   "display_name": "Python 2",
   "language": "python",
   "name": "python2"
  },
  "language_info": {
   "codemirror_mode": {
    "name": "ipython",
    "version": 2
   },
   "file_extension": ".py",
   "mimetype": "text/x-python",
   "name": "python",
   "nbconvert_exporter": "python",
   "pygments_lexer": "ipython2",
   "version": "2.7.11+"
  }
 },
 "nbformat": 4,
 "nbformat_minor": 0
}
